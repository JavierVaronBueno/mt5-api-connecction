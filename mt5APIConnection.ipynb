{
 "cells": [
  {
   "cell_type": "markdown",
   "metadata": {
    "vscode": {
     "languageId": "plaintext"
    }
   },
   "source": [
    "# Conector MT5 - Python\n",
    "\n",
    "## BitLink\n",
    "\n",
    "### Autor: Javier Varón"
   ]
  },
  {
   "cell_type": "code",
   "execution_count": 1,
   "metadata": {},
   "outputs": [],
   "source": [
    "# Importar todos los módulos que vamos a necesitar\n",
    "import pandas as pd\n",
    "import MetaTrader5 as mt5"
   ]
  },
  {
   "cell_type": "code",
   "execution_count": 15,
   "metadata": {},
   "outputs": [],
   "source": [
    "# Creamos un diccionario con las credenciales\n",
    "creds =  {\n",
    "    \"path\": \"C:\\\\Program Files\\\\Darwinex MetaTrader 5\\\\terminal64.exe\",\n",
    "    \"login\": 3000073384,\n",
    "    \"pass\": \"5V#D&@72803f\",\n",
    "    \"server\": \"Darwinex-Demo\",\n",
    "    \"timeout\": 60000,\n",
    "    \"portable\": False\n",
    "}"
   ]
  },
  {
   "cell_type": "code",
   "execution_count": 12,
   "metadata": {},
   "outputs": [
    {
     "data": {
      "text/plain": [
       "'C:\\\\Program Files\\\\Darwinex MetaTrader 5\\\\terminal64.exe'"
      ]
     },
     "execution_count": 12,
     "metadata": {},
     "output_type": "execute_result"
    }
   ],
   "source": [
    "creds['path']"
   ]
  },
  {
   "cell_type": "code",
   "execution_count": 16,
   "metadata": {},
   "outputs": [
    {
     "name": "stdout",
     "output_type": "stream",
     "text": [
      "plataforma MT5 lanzada correctamente\n"
     ]
    }
   ],
   "source": [
    "# Conexion a MT5\n",
    "if mt5.initialize(path=creds['path'], login=creds['login'], password=creds['pass'], server=creds['server'], timeout=creds['timeout'], portable=creds['portable']):\n",
    "    print(\"plataforma MT5 lanzada correctamente\")\n",
    "else:\n",
    "    print(f\"Ha habido un problema en la inicialización: {mt5.last_error()}\")"
   ]
  }
 ],
 "metadata": {
  "kernelspec": {
   "display_name": "mt5API",
   "language": "python",
   "name": "python3"
  },
  "language_info": {
   "codemirror_mode": {
    "name": "ipython",
    "version": 3
   },
   "file_extension": ".py",
   "mimetype": "text/x-python",
   "name": "python",
   "nbconvert_exporter": "python",
   "pygments_lexer": "ipython3",
   "version": "3.11.10"
  }
 },
 "nbformat": 4,
 "nbformat_minor": 2
}
