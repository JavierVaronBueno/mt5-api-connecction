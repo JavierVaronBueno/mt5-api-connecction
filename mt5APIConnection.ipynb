{
 "cells": [
  {
   "cell_type": "markdown",
   "metadata": {
    "vscode": {
     "languageId": "plaintext"
    }
   },
   "source": [
    "# Conector MT5 - Python\n",
    "\n",
    "## BitLink\n",
    "\n",
    "### Autor: Javier Varón"
   ]
  },
  {
   "cell_type": "code",
   "execution_count": 1,
   "metadata": {},
   "outputs": [],
   "source": [
    "# Importar todos los módulos que vamos a necesitar\n",
    "import pandas as pd\n",
    "import MetaTrader5 as mt5"
   ]
  },
  {
   "cell_type": "code",
   "execution_count": 15,
   "metadata": {},
   "outputs": [],
   "source": [
    "# Creamos un diccionario con las credenciales\n",
    "creds =  {\n",
    "    \"path\": \"C:\\\\Program Files\\\\Darwinex MetaTrader 5\\\\terminal64.exe\",\n",
    "    \"login\": 3000073384,\n",
    "    \"pass\": \"5V#D&@72803f\",\n",
    "    \"server\": \"Darwinex-Demo\",\n",
    "    \"timeout\": 60000,\n",
    "    \"portable\": False\n",
    "}"
   ]
  },
  {
   "cell_type": "code",
   "execution_count": 12,
   "metadata": {},
   "outputs": [
    {
     "data": {
      "text/plain": [
       "'C:\\\\Program Files\\\\Darwinex MetaTrader 5\\\\terminal64.exe'"
      ]
     },
     "execution_count": 12,
     "metadata": {},
     "output_type": "execute_result"
    }
   ],
   "source": [
    "creds['path']"
   ]
  },
  {
   "cell_type": "code",
   "execution_count": 16,
   "metadata": {},
   "outputs": [
    {
     "name": "stdout",
     "output_type": "stream",
     "text": [
      "plataforma MT5 lanzada correctamente\n"
     ]
    }
   ],
   "source": [
    "# Conexion a MT5\n",
    "if mt5.initialize(path=creds['path'], login=creds['login'], password=creds['pass'], server=creds['server'], timeout=creds['timeout'], portable=creds['portable']):\n",
    "    print(\"plataforma MT5 lanzada correctamente\")\n",
    "else:\n",
    "    print(f\"Ha habido un problema en la inicialización: {mt5.last_error()}\")"
   ]
  },
  {
   "cell_type": "markdown",
   "metadata": {},
   "source": [
    "### Informacion sobre el terminal"
   ]
  },
  {
   "cell_type": "code",
   "execution_count": 20,
   "metadata": {},
   "outputs": [],
   "source": [
    "terminal_info_dict = mt5.terminal_info()._asdict()"
   ]
  },
  {
   "cell_type": "code",
   "execution_count": 21,
   "metadata": {},
   "outputs": [
    {
     "data": {
      "text/html": [
       "<div>\n",
       "<style scoped>\n",
       "    .dataframe tbody tr th:only-of-type {\n",
       "        vertical-align: middle;\n",
       "    }\n",
       "\n",
       "    .dataframe tbody tr th {\n",
       "        vertical-align: top;\n",
       "    }\n",
       "\n",
       "    .dataframe thead th {\n",
       "        text-align: right;\n",
       "    }\n",
       "</style>\n",
       "<table border=\"1\" class=\"dataframe\">\n",
       "  <thead>\n",
       "    <tr style=\"text-align: right;\">\n",
       "      <th></th>\n",
       "      <th>community_account</th>\n",
       "      <th>community_connection</th>\n",
       "      <th>connected</th>\n",
       "      <th>dlls_allowed</th>\n",
       "      <th>trade_allowed</th>\n",
       "      <th>tradeapi_disabled</th>\n",
       "      <th>email_enabled</th>\n",
       "      <th>ftp_enabled</th>\n",
       "      <th>notifications_enabled</th>\n",
       "      <th>mqid</th>\n",
       "      <th>...</th>\n",
       "      <th>codepage</th>\n",
       "      <th>ping_last</th>\n",
       "      <th>community_balance</th>\n",
       "      <th>retransmission</th>\n",
       "      <th>company</th>\n",
       "      <th>name</th>\n",
       "      <th>language</th>\n",
       "      <th>path</th>\n",
       "      <th>data_path</th>\n",
       "      <th>commondata_path</th>\n",
       "    </tr>\n",
       "  </thead>\n",
       "  <tbody>\n",
       "    <tr>\n",
       "      <th>0</th>\n",
       "      <td>False</td>\n",
       "      <td>False</td>\n",
       "      <td>True</td>\n",
       "      <td>False</td>\n",
       "      <td>True</td>\n",
       "      <td>False</td>\n",
       "      <td>False</td>\n",
       "      <td>False</td>\n",
       "      <td>False</td>\n",
       "      <td>False</td>\n",
       "      <td>...</td>\n",
       "      <td>0</td>\n",
       "      <td>172866</td>\n",
       "      <td>0.0</td>\n",
       "      <td>0.181412</td>\n",
       "      <td>Tradeslide Trading Tech Limited</td>\n",
       "      <td>Darwinex MetaTrader 5</td>\n",
       "      <td>English</td>\n",
       "      <td>C:\\Program Files\\Darwinex MetaTrader 5</td>\n",
       "      <td>C:\\Users\\Nabucodonosor\\AppData\\Roaming\\MetaQuo...</td>\n",
       "      <td>C:\\Users\\Nabucodonosor\\AppData\\Roaming\\MetaQuo...</td>\n",
       "    </tr>\n",
       "  </tbody>\n",
       "</table>\n",
       "<p>1 rows × 22 columns</p>\n",
       "</div>"
      ],
      "text/plain": [
       "   community_account  community_connection  connected  dlls_allowed  \\\n",
       "0              False                 False       True         False   \n",
       "\n",
       "   trade_allowed  tradeapi_disabled  email_enabled  ftp_enabled  \\\n",
       "0           True              False          False        False   \n",
       "\n",
       "   notifications_enabled   mqid  ...  codepage  ping_last  community_balance  \\\n",
       "0                  False  False  ...         0     172866                0.0   \n",
       "\n",
       "   retransmission                          company                   name  \\\n",
       "0        0.181412  Tradeslide Trading Tech Limited  Darwinex MetaTrader 5   \n",
       "\n",
       "  language                                    path  \\\n",
       "0  English  C:\\Program Files\\Darwinex MetaTrader 5   \n",
       "\n",
       "                                           data_path  \\\n",
       "0  C:\\Users\\Nabucodonosor\\AppData\\Roaming\\MetaQuo...   \n",
       "\n",
       "                                     commondata_path  \n",
       "0  C:\\Users\\Nabucodonosor\\AppData\\Roaming\\MetaQuo...  \n",
       "\n",
       "[1 rows x 22 columns]"
      ]
     },
     "execution_count": 21,
     "metadata": {},
     "output_type": "execute_result"
    }
   ],
   "source": [
    "terminal_info_df = pd.DataFrame(terminal_info_dict, index=[0])\n",
    "terminal_info_df"
   ]
  },
  {
   "cell_type": "markdown",
   "metadata": {},
   "source": [
    "### Informacion de la cuenta"
   ]
  },
  {
   "cell_type": "code",
   "execution_count": 53,
   "metadata": {},
   "outputs": [
    {
     "data": {
      "text/plain": [
       "9999.15"
      ]
     },
     "execution_count": 53,
     "metadata": {},
     "output_type": "execute_result"
    }
   ],
   "source": [
    "account_info_dict = mt5.account_info()._asdict()\n",
    "account_info_dict['equity']"
   ]
  },
  {
   "cell_type": "code",
   "execution_count": 35,
   "metadata": {},
   "outputs": [
    {
     "data": {
      "text/html": [
       "<div>\n",
       "<style scoped>\n",
       "    .dataframe tbody tr th:only-of-type {\n",
       "        vertical-align: middle;\n",
       "    }\n",
       "\n",
       "    .dataframe tbody tr th {\n",
       "        vertical-align: top;\n",
       "    }\n",
       "\n",
       "    .dataframe thead th {\n",
       "        text-align: right;\n",
       "    }\n",
       "</style>\n",
       "<table border=\"1\" class=\"dataframe\">\n",
       "  <thead>\n",
       "    <tr style=\"text-align: right;\">\n",
       "      <th></th>\n",
       "      <th>login</th>\n",
       "      <th>trade_mode</th>\n",
       "      <th>leverage</th>\n",
       "      <th>limit_orders</th>\n",
       "      <th>margin_so_mode</th>\n",
       "      <th>trade_allowed</th>\n",
       "      <th>trade_expert</th>\n",
       "      <th>margin_mode</th>\n",
       "      <th>currency_digits</th>\n",
       "      <th>fifo_close</th>\n",
       "      <th>...</th>\n",
       "      <th>margin_so_so</th>\n",
       "      <th>margin_initial</th>\n",
       "      <th>margin_maintenance</th>\n",
       "      <th>assets</th>\n",
       "      <th>liabilities</th>\n",
       "      <th>commission_blocked</th>\n",
       "      <th>name</th>\n",
       "      <th>server</th>\n",
       "      <th>currency</th>\n",
       "      <th>company</th>\n",
       "    </tr>\n",
       "  </thead>\n",
       "  <tbody>\n",
       "    <tr>\n",
       "      <th>0</th>\n",
       "      <td>3000073384</td>\n",
       "      <td>0</td>\n",
       "      <td>200</td>\n",
       "      <td>400</td>\n",
       "      <td>0</td>\n",
       "      <td>True</td>\n",
       "      <td>True</td>\n",
       "      <td>2</td>\n",
       "      <td>2</td>\n",
       "      <td>False</td>\n",
       "      <td>...</td>\n",
       "      <td>50.0</td>\n",
       "      <td>0.0</td>\n",
       "      <td>0.0</td>\n",
       "      <td>0.0</td>\n",
       "      <td>0.0</td>\n",
       "      <td>0.0</td>\n",
       "      <td>Javox</td>\n",
       "      <td>Darwinex-Demo</td>\n",
       "      <td>EUR</td>\n",
       "      <td>Tradeslide Trading Tech Limited</td>\n",
       "    </tr>\n",
       "  </tbody>\n",
       "</table>\n",
       "<p>1 rows × 28 columns</p>\n",
       "</div>"
      ],
      "text/plain": [
       "        login  trade_mode  leverage  limit_orders  margin_so_mode  \\\n",
       "0  3000073384           0       200           400               0   \n",
       "\n",
       "   trade_allowed  trade_expert  margin_mode  currency_digits  fifo_close  ...  \\\n",
       "0           True          True            2                2       False  ...   \n",
       "\n",
       "   margin_so_so  margin_initial  margin_maintenance  assets  liabilities  \\\n",
       "0          50.0             0.0                 0.0     0.0          0.0   \n",
       "\n",
       "   commission_blocked   name         server  currency  \\\n",
       "0                 0.0  Javox  Darwinex-Demo       EUR   \n",
       "\n",
       "                           company  \n",
       "0  Tradeslide Trading Tech Limited  \n",
       "\n",
       "[1 rows x 28 columns]"
      ]
     },
     "execution_count": 35,
     "metadata": {},
     "output_type": "execute_result"
    }
   ],
   "source": [
    "account_info_df = pd.DataFrame(account_info_dict, index=[0])\n",
    "account_info_df"
   ]
  },
  {
   "cell_type": "code",
   "execution_count": null,
   "metadata": {},
   "outputs": [
    {
     "data": {
      "text/plain": [
       "-1.32"
      ]
     },
     "execution_count": 42,
     "metadata": {},
     "output_type": "execute_result"
    }
   ],
   "source": [
    "# Obtiene el profit de la cuenta\n",
    "account_info_dict['profit']"
   ]
  },
  {
   "cell_type": "markdown",
   "metadata": {},
   "source": [
    "# Recuperacion de datos: Symbols"
   ]
  },
  {
   "cell_type": "code",
   "execution_count": null,
   "metadata": {},
   "outputs": [
    {
     "data": {
      "text/plain": [
       "886"
      ]
     },
     "execution_count": 54,
     "metadata": {},
     "output_type": "execute_result"
    }
   ],
   "source": [
    "# Obtiene el total de los simbolos\n",
    "mt5.symbols_total()"
   ]
  },
  {
   "cell_type": "code",
   "execution_count": null,
   "metadata": {},
   "outputs": [
    {
     "data": {
      "text/plain": [
       "(SymbolInfo(custom=False, chart_mode=0, select=True, visible=True, session_deals=0, session_buy_orders=0, session_sell_orders=0, volume=0, volumehigh=0, volumelow=0, time=1733261450, digits=5, spread=5, spread_float=True, ticks_bookdepth=32, trade_calc_mode=5, trade_mode=4, start_time=0, expiration_time=0, trade_stops_level=0, trade_freeze_level=0, trade_exemode=2, swap_mode=1, swap_rollover3days=3, margin_hedged_use_leg=False, expiration_mode=15, filling_mode=3, order_mode=127, order_gtc_mode=0, option_mode=0, option_right=0, bid=0.64852, bidhigh=0.65044, bidlow=0.6455, ask=0.64857, askhigh=0.65048, asklow=0.64557, last=0.0, lasthigh=0.0, lastlow=0.0, volume_real=0.0, volumehigh_real=0.0, volumelow_real=0.0, option_strike=0.0, point=1e-05, trade_tick_value=0.9509409560760373, trade_tick_value_profit=0.9509409560760373, trade_tick_value_loss=0.9509771290000477, trade_tick_size=1e-05, trade_contract_size=100000.0, trade_accrued_interest=0.0, trade_face_value=0.0, trade_liquidity_rate=0.0, volume_min=0.01, volume_max=100.0, volume_step=0.01, volume_limit=0.0, swap_long=-2.2, swap_short=-1.0, margin_initial=0.0, margin_maintenance=0.0, session_volume=0.0, session_turnover=0.0, session_interest=0.0, session_buy_orders_volume=0.0, session_sell_orders_volume=0.0, session_open=0.64736, session_close=0.6476, session_aw=0.0, session_price_settlement=0.0, session_price_limit_min=0.0, session_price_limit_max=0.0, margin_hedged=0.0, price_change=0.1421, price_volatility=0.0, price_theoretical=0.0, price_greeks_delta=0.0, price_greeks_theta=0.0, price_greeks_gamma=0.0, price_greeks_vega=0.0, price_greeks_rho=0.0, price_greeks_omega=0.0, price_sensitivity=0.0, basis='', category='', currency_base='AUD', currency_profit='USD', currency_margin='AUD', bank='', description='Australian Dollar vs US Dollar', exchange='', formula='', isin='', name='AUDUSD', page='', path='Forex\\\\AUDUSD'),\n",
       " SymbolInfo(custom=False, chart_mode=0, select=True, visible=True, session_deals=0, session_buy_orders=0, session_sell_orders=0, volume=0, volumehigh=0, volumelow=0, time=1733261448, digits=5, spread=4, spread_float=True, ticks_bookdepth=32, trade_calc_mode=5, trade_mode=4, start_time=0, expiration_time=0, trade_stops_level=0, trade_freeze_level=0, trade_exemode=2, swap_mode=1, swap_rollover3days=3, margin_hedged_use_leg=False, expiration_mode=15, filling_mode=3, order_mode=127, order_gtc_mode=0, option_mode=0, option_right=0, bid=1.05155, bidhigh=1.0535, bidlow=1.04805, ask=1.05159, askhigh=1.05352, asklow=1.04808, last=0.0, lasthigh=0.0, lastlow=0.0, volume_real=0.0, volumehigh_real=0.0, volumelow_real=0.0, option_strike=0.0, point=1e-05, trade_tick_value=0.9509409560760373, trade_tick_value_profit=0.9509409560760373, trade_tick_value_loss=0.9509771290000477, trade_tick_size=1e-05, trade_contract_size=100000.0, trade_accrued_interest=0.0, trade_face_value=0.0, trade_liquidity_rate=0.0, volume_min=0.01, volume_max=100.0, volume_step=0.01, volume_limit=0.0, swap_long=-7.4, swap_short=1.8, margin_initial=0.0, margin_maintenance=0.0, session_volume=0.0, session_turnover=0.0, session_interest=0.0, session_buy_orders_volume=0.0, session_sell_orders_volume=0.0, session_open=1.04974, session_close=1.04978, session_aw=0.0, session_price_settlement=0.0, session_price_limit_min=0.0, session_price_limit_max=0.0, margin_hedged=0.0, price_change=0.1686, price_volatility=0.0, price_theoretical=0.0, price_greeks_delta=0.0, price_greeks_theta=0.0, price_greeks_gamma=0.0, price_greeks_vega=0.0, price_greeks_rho=0.0, price_greeks_omega=0.0, price_sensitivity=0.0, basis='', category='', currency_base='EUR', currency_profit='USD', currency_margin='EUR', bank='', description='Euro vs US Dollar', exchange='', formula='', isin='', name='EURUSD', page='', path='Forex\\\\EURUSD'),\n",
       " SymbolInfo(custom=False, chart_mode=0, select=True, visible=True, session_deals=0, session_buy_orders=0, session_sell_orders=0, volume=0, volumehigh=0, volumelow=0, time=1733261449, digits=5, spread=7, spread_float=True, ticks_bookdepth=32, trade_calc_mode=5, trade_mode=4, start_time=0, expiration_time=0, trade_stops_level=0, trade_freeze_level=0, trade_exemode=2, swap_mode=1, swap_rollover3days=3, margin_hedged_use_leg=False, expiration_mode=15, filling_mode=3, order_mode=127, order_gtc_mode=0, option_mode=0, option_right=0, bid=1.2681200000000001, bidhigh=1.26994, bidlow=1.26364, ask=1.26819, askhigh=1.26999, asklow=1.26369, last=0.0, lasthigh=0.0, lastlow=0.0, volume_real=0.0, volumehigh_real=0.0, volumelow_real=0.0, option_strike=0.0, point=1e-05, trade_tick_value=0.9509409560760373, trade_tick_value_profit=0.9509409560760373, trade_tick_value_loss=0.9509771290000477, trade_tick_size=1e-05, trade_contract_size=100000.0, trade_accrued_interest=0.0, trade_face_value=0.0, trade_liquidity_rate=0.0, volume_min=0.01, volume_max=100.0, volume_step=0.01, volume_limit=0.0, swap_long=-3.5, swap_short=-3.8, margin_initial=0.0, margin_maintenance=0.0, session_volume=0.0, session_turnover=0.0, session_interest=0.0, session_buy_orders_volume=0.0, session_sell_orders_volume=0.0, session_open=1.26441, session_close=1.26551, session_aw=0.0, session_price_settlement=0.0, session_price_limit_min=0.0, session_price_limit_max=0.0, margin_hedged=0.0, price_change=0.2062, price_volatility=0.0, price_theoretical=0.0, price_greeks_delta=0.0, price_greeks_theta=0.0, price_greeks_gamma=0.0, price_greeks_vega=0.0, price_greeks_rho=0.0, price_greeks_omega=0.0, price_sensitivity=0.0, basis='', category='', currency_base='GBP', currency_profit='USD', currency_margin='GBP', bank='', description='Great Britan Pound vs US Dollar', exchange='', formula='', isin='', name='GBPUSD', page='', path='Forex\\\\GBPUSD'),\n",
       " SymbolInfo(custom=False, chart_mode=0, select=True, visible=False, session_deals=0, session_buy_orders=0, session_sell_orders=0, volume=0, volumehigh=0, volumelow=0, time=1733261449, digits=5, spread=7, spread_float=True, ticks_bookdepth=32, trade_calc_mode=5, trade_mode=4, start_time=0, expiration_time=0, trade_stops_level=0, trade_freeze_level=0, trade_exemode=2, swap_mode=1, swap_rollover3days=3, margin_hedged_use_leg=False, expiration_mode=15, filling_mode=3, order_mode=127, order_gtc_mode=0, option_mode=0, option_right=0, bid=0.58833, bidhigh=0.59046, bidlow=0.58643, ask=0.5884, askhigh=0.59053, asklow=0.58648, last=0.0, lasthigh=0.0, lastlow=0.0, volume_real=0.0, volumehigh_real=0.0, volumelow_real=0.0, option_strike=0.0, point=1e-05, trade_tick_value=0.9509409560760373, trade_tick_value_profit=0.9509409560760373, trade_tick_value_loss=0.9509771290000477, trade_tick_size=1e-05, trade_contract_size=100000.0, trade_accrued_interest=0.0, trade_face_value=0.0, trade_liquidity_rate=0.0, volume_min=0.01, volume_max=100.0, volume_step=0.01, volume_limit=0.0, swap_long=-3.0, swap_short=-0.4, margin_initial=0.0, margin_maintenance=0.0, session_volume=0.0, session_turnover=0.0, session_interest=0.0, session_buy_orders_volume=0.0, session_sell_orders_volume=0.0, session_open=0.58781, session_close=0.58875, session_aw=0.0, session_price_settlement=0.0, session_price_limit_min=0.0, session_price_limit_max=0.0, margin_hedged=0.0, price_change=-0.0713, price_volatility=0.0, price_theoretical=0.0, price_greeks_delta=0.0, price_greeks_theta=0.0, price_greeks_gamma=0.0, price_greeks_vega=0.0, price_greeks_rho=0.0, price_greeks_omega=0.0, price_sensitivity=0.0, basis='', category='', currency_base='NZD', currency_profit='USD', currency_margin='NZD', bank='', description='New Zealand Dollar vs US Dollar', exchange='', formula='', isin='', name='NZDUSD', page='', path='Forex\\\\NZDUSD'),\n",
       " SymbolInfo(custom=False, chart_mode=0, select=False, visible=False, session_deals=0, session_buy_orders=0, session_sell_orders=0, volume=0, volumehigh=0, volumelow=0, time=0, digits=5, spread=0, spread_float=True, ticks_bookdepth=32, trade_calc_mode=5, trade_mode=4, start_time=0, expiration_time=0, trade_stops_level=0, trade_freeze_level=0, trade_exemode=2, swap_mode=1, swap_rollover3days=4, margin_hedged_use_leg=False, expiration_mode=15, filling_mode=3, order_mode=127, order_gtc_mode=0, option_mode=0, option_right=0, bid=0.0, bidhigh=0.0, bidlow=0.0, ask=0.0, askhigh=0.0, asklow=0.0, last=0.0, lasthigh=0.0, lastlow=0.0, volume_real=0.0, volumehigh_real=0.0, volumelow_real=0.0, option_strike=0.0, point=1e-05, trade_tick_value=0.6762148199239935, trade_tick_value_profit=0.6762148199239935, trade_tick_value_loss=0.6762788432926664, trade_tick_size=1e-05, trade_contract_size=100000.0, trade_accrued_interest=0.0, trade_face_value=0.0, trade_liquidity_rate=0.0, volume_min=0.01, volume_max=100.0, volume_step=0.01, volume_limit=0.0, swap_long=1.3, swap_short=-8.7, margin_initial=0.0, margin_maintenance=0.0, session_volume=0.0, session_turnover=0.0, session_interest=0.0, session_buy_orders_volume=0.0, session_sell_orders_volume=0.0, session_open=0.0, session_close=0.0, session_aw=0.0, session_price_settlement=0.0, session_price_limit_min=0.0, session_price_limit_max=0.0, margin_hedged=0.0, price_change=0.0, price_volatility=0.0, price_theoretical=0.0, price_greeks_delta=0.0, price_greeks_theta=0.0, price_greeks_gamma=0.0, price_greeks_vega=0.0, price_greeks_rho=0.0, price_greeks_omega=0.0, price_sensitivity=0.0, basis='', category='', currency_base='USD', currency_profit='CAD', currency_margin='USD', bank='', description='US Dollar vs Canadian Dollar', exchange='', formula='', isin='', name='USDCAD', page='', path='Forex\\\\USDCAD'),\n",
       " SymbolInfo(custom=False, chart_mode=0, select=True, visible=True, session_deals=0, session_buy_orders=0, session_sell_orders=0, volume=0, volumehigh=0, volumelow=0, time=1733261449, digits=5, spread=8, spread_float=True, ticks_bookdepth=32, trade_calc_mode=5, trade_mode=4, start_time=0, expiration_time=0, trade_stops_level=0, trade_freeze_level=0, trade_exemode=2, swap_mode=1, swap_rollover3days=3, margin_hedged_use_leg=False, expiration_mode=15, filling_mode=3, order_mode=127, order_gtc_mode=0, option_mode=0, option_right=0, bid=0.8855, bidhigh=0.88886, bidlow=0.88295, ask=0.88558, askhigh=0.88892, asklow=0.88301, last=0.0, lasthigh=0.0, lastlow=0.0, volume_real=0.0, volumehigh_real=0.0, volumelow_real=0.0, option_strike=0.0, point=1e-05, trade_tick_value=1.0738370344916457, trade_tick_value_profit=1.0738370344916457, trade_tick_value_loss=1.073929292495382, trade_tick_size=1e-05, trade_contract_size=100000.0, trade_accrued_interest=0.0, trade_face_value=0.0, trade_liquidity_rate=0.0, volume_min=0.01, volume_max=100.0, volume_step=0.01, volume_limit=0.0, swap_long=6.7, swap_short=-11.6, margin_initial=0.0, margin_maintenance=0.0, session_volume=0.0, session_turnover=0.0, session_interest=0.0, session_buy_orders_volume=0.0, session_sell_orders_volume=0.0, session_open=0.88535, session_close=0.88645, session_aw=0.0, session_price_settlement=0.0, session_price_limit_min=0.0, session_price_limit_max=0.0, margin_hedged=0.0, price_change=-0.1072, price_volatility=0.0, price_theoretical=0.0, price_greeks_delta=0.0, price_greeks_theta=0.0, price_greeks_gamma=0.0, price_greeks_vega=0.0, price_greeks_rho=0.0, price_greeks_omega=0.0, price_sensitivity=0.0, basis='', category='', currency_base='USD', currency_profit='CHF', currency_margin='USD', bank='', description='US Dollar vs Swiss Franc', exchange='', formula='', isin='', name='USDCHF', page='', path='Forex\\\\USDCHF'),\n",
       " SymbolInfo(custom=False, chart_mode=0, select=True, visible=True, session_deals=0, session_buy_orders=0, session_sell_orders=0, volume=0, volumehigh=0, volumelow=0, time=1733261449, digits=3, spread=7, spread_float=True, ticks_bookdepth=32, trade_calc_mode=5, trade_mode=4, start_time=0, expiration_time=0, trade_stops_level=0, trade_freeze_level=0, trade_exemode=2, swap_mode=1, swap_rollover3days=3, margin_hedged_use_leg=False, expiration_mode=15, filling_mode=3, order_mode=127, order_gtc_mode=0, option_mode=0, option_right=0, bid=149.298, bidhigh=150.237, bidlow=148.64, ask=149.305, askhigh=150.244, asklow=148.647, last=0.0, lasthigh=0.0, lastlow=0.0, volume_real=0.0, volumehigh_real=0.0, volumelow_real=0.0, option_strike=0.0, point=0.001, trade_tick_value=0.6369345613431675, trade_tick_value_profit=0.6369345613431675, trade_tick_value_loss=0.6369710751434777, trade_tick_size=0.001, trade_contract_size=100000.0, trade_accrued_interest=0.0, trade_face_value=0.0, trade_liquidity_rate=0.0, volume_min=0.01, volume_max=100.0, volume_step=0.01, volume_limit=0.0, swap_long=14.0, swap_short=-23.2, margin_initial=0.0, margin_maintenance=0.0, session_volume=0.0, session_turnover=0.0, session_interest=0.0, session_buy_orders_volume=0.0, session_sell_orders_volume=0.0, session_open=149.557, session_close=149.58, session_aw=0.0, session_price_settlement=0.0, session_price_limit_min=0.0, session_price_limit_max=0.0, margin_hedged=0.0, price_change=-0.1885, price_volatility=0.0, price_theoretical=0.0, price_greeks_delta=0.0, price_greeks_theta=0.0, price_greeks_gamma=0.0, price_greeks_vega=0.0, price_greeks_rho=0.0, price_greeks_omega=0.0, price_sensitivity=0.0, basis='', category='', currency_base='USD', currency_profit='JPY', currency_margin='USD', bank='', description='US Dollar vs Japanese Yen', exchange='', formula='', isin='', name='USDJPY', page='', path='Forex\\\\USDJPY'),\n",
       " SymbolInfo(custom=False, chart_mode=0, select=True, visible=False, session_deals=0, session_buy_orders=0, session_sell_orders=0, volume=0, volumehigh=0, volumelow=0, time=1733261447, digits=5, spread=556, spread_float=True, ticks_bookdepth=32, trade_calc_mode=5, trade_mode=4, start_time=0, expiration_time=0, trade_stops_level=0, trade_freeze_level=0, trade_exemode=2, swap_mode=1, swap_rollover3days=3, margin_hedged_use_leg=False, expiration_mode=15, filling_mode=3, order_mode=127, order_gtc_mode=0, option_mode=0, option_right=0, bid=20.33114, bidhigh=20.42807, bidlow=20.2852, ask=20.3367, askhigh=20.43852, asklow=20.28912, last=0.0, lasthigh=0.0, lastlow=0.0, volume_real=0.0, volumehigh_real=0.0, volumelow_real=0.0, option_strike=0.0, point=1e-05, trade_tick_value=0.04676034946814779, trade_tick_value_profit=0.04676034946814779, trade_tick_value_loss=0.04677410678996322, trade_tick_size=1e-05, trade_contract_size=100000.0, trade_accrued_interest=0.0, trade_face_value=0.0, trade_liquidity_rate=0.0, volume_min=0.01, volume_max=100.0, volume_step=0.01, volume_limit=0.0, swap_long=-553.2, swap_short=241.2, margin_initial=0.0, margin_maintenance=0.0, session_volume=0.0, session_turnover=0.0, session_interest=0.0, session_buy_orders_volume=0.0, session_sell_orders_volume=0.0, session_open=20.34557, session_close=20.37547, session_aw=0.0, session_price_settlement=0.0, session_price_limit_min=0.0, session_price_limit_max=0.0, margin_hedged=0.0, price_change=-0.2176, price_volatility=0.0, price_theoretical=0.0, price_greeks_delta=0.0, price_greeks_theta=0.0, price_greeks_gamma=0.0, price_greeks_vega=0.0, price_greeks_rho=0.0, price_greeks_omega=0.0, price_sensitivity=0.0, basis='', category='', currency_base='USD', currency_profit='MXN', currency_margin='USD', bank='', description='US Dollar vs. Mexican Peso', exchange='', formula='', isin='', name='USDMXN', page='', path='Forex\\\\USDMXN'),\n",
       " SymbolInfo(custom=False, chart_mode=0, select=True, visible=False, session_deals=0, session_buy_orders=0, session_sell_orders=0, volume=0, volumehigh=0, volumelow=0, time=1733261450, digits=5, spread=293, spread_float=True, ticks_bookdepth=32, trade_calc_mode=5, trade_mode=4, start_time=0, expiration_time=0, trade_stops_level=0, trade_freeze_level=0, trade_exemode=2, swap_mode=1, swap_rollover3days=3, margin_hedged_use_leg=False, expiration_mode=15, filling_mode=3, order_mode=127, order_gtc_mode=0, option_mode=0, option_right=0, bid=11.05432, bidhigh=11.13072, bidlow=11.02451, ask=11.05725, askhigh=11.13659, asklow=11.02791, last=0.0, lasthigh=0.0, lastlow=0.0, volume_real=0.0, volumehigh_real=0.0, volumelow_real=0.0, option_strike=0.0, point=1e-05, trade_tick_value=0.08601233072773314, trade_tick_value_profit=0.08601233072773314, trade_tick_value_loss=0.0860265374662776, trade_tick_size=1e-05, trade_contract_size=100000.0, trade_accrued_interest=0.0, trade_face_value=0.0, trade_liquidity_rate=0.0, volume_min=0.01, volume_max=100.0, volume_step=0.01, volume_limit=0.0, swap_long=-38.4, swap_short=-46.7, margin_initial=0.0, margin_maintenance=0.0, session_volume=0.0, session_turnover=0.0, session_interest=0.0, session_buy_orders_volume=0.0, session_sell_orders_volume=0.0, session_open=11.08832, session_close=11.09362, session_aw=0.0, session_price_settlement=0.0, session_price_limit_min=0.0, session_price_limit_max=0.0, margin_hedged=0.0, price_change=-0.3543, price_volatility=0.0, price_theoretical=0.0, price_greeks_delta=0.0, price_greeks_theta=0.0, price_greeks_gamma=0.0, price_greeks_vega=0.0, price_greeks_rho=0.0, price_greeks_omega=0.0, price_sensitivity=0.0, basis='', category='', currency_base='USD', currency_profit='NOK', currency_margin='USD', bank='', description='US Dollar vs Norwegian Krone', exchange='', formula='', isin='', name='USDNOK', page='', path='Forex\\\\USDNOK'),\n",
       " SymbolInfo(custom=False, chart_mode=0, select=True, visible=False, session_deals=0, session_buy_orders=0, session_sell_orders=0, volume=0, volumehigh=0, volumelow=0, time=1733261450, digits=5, spread=279, spread_float=True, ticks_bookdepth=32, trade_calc_mode=5, trade_mode=4, start_time=0, expiration_time=0, trade_stops_level=0, trade_freeze_level=0, trade_exemode=2, swap_mode=1, swap_rollover3days=3, margin_hedged_use_leg=False, expiration_mode=15, filling_mode=3, order_mode=127, order_gtc_mode=0, option_mode=0, option_right=0, bid=10.99971, bidhigh=11.0283, bidlow=10.96812, ask=11.0025, askhigh=11.02944, asklow=10.9702, last=0.0, lasthigh=0.0, lastlow=0.0, volume_real=0.0, volumehigh_real=0.0, volumelow_real=0.0, option_strike=0.0, point=1e-05, trade_tick_value=0.08642967649372088, trade_tick_value_profit=0.08642967649372088, trade_tick_value_loss=0.08645582971659779, trade_tick_size=1e-05, trade_contract_size=100000.0, trade_accrued_interest=0.0, trade_face_value=0.0, trade_liquidity_rate=0.0, volume_min=0.01, volume_max=100.0, volume_step=0.01, volume_limit=0.0, swap_long=-26.2, swap_short=-155.2, margin_initial=0.0, margin_maintenance=0.0, session_volume=0.0, session_turnover=0.0, session_interest=0.0, session_buy_orders_volume=0.0, session_sell_orders_volume=0.0, session_open=10.9905, session_close=10.9905, session_aw=0.0, session_price_settlement=0.0, session_price_limit_min=0.0, session_price_limit_max=0.0, margin_hedged=0.0, price_change=0.0838, price_volatility=0.0, price_theoretical=0.0, price_greeks_delta=0.0, price_greeks_theta=0.0, price_greeks_gamma=0.0, price_greeks_vega=0.0, price_greeks_rho=0.0, price_greeks_omega=0.0, price_sensitivity=0.0, basis='', category='', currency_base='USD', currency_profit='SEK', currency_margin='USD', bank='', description='US dollar vs Swedish krona', exchange='', formula='', isin='', name='USDSEK', page='', path='Forex\\\\USDSEK'),\n",
       " SymbolInfo(custom=False, chart_mode=0, select=True, visible=False, session_deals=0, session_buy_orders=0, session_sell_orders=0, volume=0, volumehigh=0, volumelow=0, time=1733261450, digits=5, spread=11, spread_float=True, ticks_bookdepth=32, trade_calc_mode=5, trade_mode=4, start_time=0, expiration_time=0, trade_stops_level=0, trade_freeze_level=0, trade_exemode=2, swap_mode=1, swap_rollover3days=3, margin_hedged_use_leg=False, expiration_mode=15, filling_mode=3, order_mode=127, order_gtc_mode=0, option_mode=0, option_right=0, bid=1.3444099999999999, bidhigh=1.34802, bidlow=1.34273, ask=1.34452, askhigh=1.34814, asklow=1.34337, last=0.0, lasthigh=0.0, lastlow=0.0, volume_real=0.0, volumehigh_real=0.0, volumelow_real=0.0, option_strike=0.0, point=1e-05, trade_tick_value=0.7072717074316763, trade_tick_value_profit=0.7072717074316763, trade_tick_value_loss=0.7073564827694289, trade_tick_size=1e-05, trade_contract_size=100000.0, trade_accrued_interest=0.0, trade_face_value=0.0, trade_liquidity_rate=0.0, volume_min=0.01, volume_max=100.0, volume_step=0.01, volume_limit=0.0, swap_long=2.3, swap_short=-8.5, margin_initial=0.0, margin_maintenance=0.0, session_volume=0.0, session_turnover=0.0, session_interest=0.0, session_buy_orders_volume=0.0, session_sell_orders_volume=0.0, session_open=1.34281, session_close=1.3440400000000001, session_aw=0.0, session_price_settlement=0.0, session_price_limit_min=0.0, session_price_limit_max=0.0, margin_hedged=0.0, price_change=0.0275, price_volatility=0.0, price_theoretical=0.0, price_greeks_delta=0.0, price_greeks_theta=0.0, price_greeks_gamma=0.0, price_greeks_vega=0.0, price_greeks_rho=0.0, price_greeks_omega=0.0, price_sensitivity=0.0, basis='', category='', currency_base='USD', currency_profit='SGD', currency_margin='USD', bank='', description='US Dollar vs Singapore Dollar', exchange='', formula='', isin='', name='USDSGD', page='', path='Forex\\\\USDSGD'),\n",
       " SymbolInfo(custom=False, chart_mode=0, select=True, visible=False, session_deals=0, session_buy_orders=0, session_sell_orders=0, volume=0, volumehigh=0, volumelow=0, time=1733261426, digits=5, spread=709, spread_float=True, ticks_bookdepth=32, trade_calc_mode=5, trade_mode=3, start_time=0, expiration_time=0, trade_stops_level=0, trade_freeze_level=0, trade_exemode=2, swap_mode=1, swap_rollover3days=4, margin_hedged_use_leg=False, expiration_mode=15, filling_mode=3, order_mode=127, order_gtc_mode=0, option_mode=0, option_right=0, bid=34.73779, bidhigh=34.75205, bidlow=34.72727, ask=34.74488, askhigh=34.7634, asklow=34.73124, last=0.0, lasthigh=0.0, lastlow=0.0, volume_real=0.0, volumehigh_real=0.0, volumelow_real=0.0, option_strike=0.0, point=1e-05, trade_tick_value=0.027337671639571393, trade_tick_value_profit=0.027337671639571393, trade_tick_value_loss=0.027356158582557057, trade_tick_size=1e-05, trade_contract_size=100000.0, trade_accrued_interest=0.0, trade_face_value=0.0, trade_liquidity_rate=0.0, volume_min=0.01, volume_max=100.0, volume_step=0.01, volume_limit=0.0, swap_long=-8329.8, swap_short=-1223.6, margin_initial=0.0, margin_maintenance=0.0, session_volume=0.0, session_turnover=0.0, session_interest=0.0, session_buy_orders_volume=0.0, session_sell_orders_volume=0.0, session_open=34.72727, session_close=34.72068, session_aw=0.0, session_price_settlement=0.0, session_price_limit_min=0.0, session_price_limit_max=0.0, margin_hedged=0.0, price_change=0.0493, price_volatility=0.0, price_theoretical=0.0, price_greeks_delta=0.0, price_greeks_theta=0.0, price_greeks_gamma=0.0, price_greeks_vega=0.0, price_greeks_rho=0.0, price_greeks_omega=0.0, price_sensitivity=0.0, basis='', category='', currency_base='USD', currency_profit='TRY', currency_margin='USD', bank='', description='US Dollar vs. Turkish Lira', exchange='', formula='', isin='', name='USDTRY', page='', path='Forex\\\\USDTRY'),\n",
       " SymbolInfo(custom=False, chart_mode=0, select=False, visible=False, session_deals=0, session_buy_orders=0, session_sell_orders=0, volume=0, volumehigh=0, volumelow=0, time=0, digits=2, spread=0, spread_float=True, ticks_bookdepth=32, trade_calc_mode=2, trade_mode=4, start_time=0, expiration_time=0, trade_stops_level=0, trade_freeze_level=0, trade_exemode=2, swap_mode=1, swap_rollover3days=3, margin_hedged_use_leg=False, expiration_mode=15, filling_mode=3, order_mode=127, order_gtc_mode=0, option_mode=0, option_right=0, bid=0.0, bidhigh=0.0, bidlow=0.0, ask=0.0, askhigh=0.0, asklow=0.0, last=0.0, lasthigh=0.0, lastlow=0.0, volume_real=0.0, volumehigh_real=0.0, volumelow_real=0.0, option_strike=0.0, point=0.01, trade_tick_value=0.9509409560760372, trade_tick_value_profit=0.9509409560760372, trade_tick_value_loss=0.9509771290000477, trade_tick_size=0.01, trade_contract_size=100.0, trade_accrued_interest=0.0, trade_face_value=0.0, trade_liquidity_rate=0.0, volume_min=0.01, volume_max=100.0, volume_step=0.01, volume_limit=0.0, swap_long=-42.5, swap_short=25.6, margin_initial=0.0, margin_maintenance=0.0, session_volume=0.0, session_turnover=0.0, session_interest=0.0, session_buy_orders_volume=0.0, session_sell_orders_volume=0.0, session_open=0.0, session_close=0.0, session_aw=0.0, session_price_settlement=0.0, session_price_limit_min=0.0, session_price_limit_max=0.0, margin_hedged=0.0, price_change=0.0, price_volatility=0.0, price_theoretical=0.0, price_greeks_delta=0.0, price_greeks_theta=0.0, price_greeks_gamma=0.0, price_greeks_vega=0.0, price_greeks_rho=0.0, price_greeks_omega=0.0, price_sensitivity=0.0, basis='', category='', currency_base='USD', currency_profit='USD', currency_margin='USD', bank='', description='Gold vs US Dollar ', exchange='', formula='', isin='', name='XAUUSD', page='', path='Commodities\\\\Metals\\\\XAUUSD'),\n",
       " SymbolInfo(custom=False, chart_mode=0, select=False, visible=False, session_deals=0, session_buy_orders=0, session_sell_orders=0, volume=0, volumehigh=0, volumelow=0, time=0, digits=3, spread=0, spread_float=True, ticks_bookdepth=32, trade_calc_mode=2, trade_mode=4, start_time=0, expiration_time=0, trade_stops_level=0, trade_freeze_level=0, trade_exemode=2, swap_mode=1, swap_rollover3days=3, margin_hedged_use_leg=False, expiration_mode=15, filling_mode=3, order_mode=127, order_gtc_mode=0, option_mode=0, option_right=0, bid=0.0, bidhigh=0.0, bidlow=0.0, ask=0.0, askhigh=0.0, asklow=0.0, last=0.0, lasthigh=0.0, lastlow=0.0, volume_real=0.0, volumehigh_real=0.0, volumelow_real=0.0, option_strike=0.0, point=0.001, trade_tick_value=4.7547047803801865, trade_tick_value_profit=4.7547047803801865, trade_tick_value_loss=4.754885645000238, trade_tick_size=0.001, trade_contract_size=5000.0, trade_accrued_interest=0.0, trade_face_value=0.0, trade_liquidity_rate=0.0, volume_min=0.01, volume_max=100.0, volume_step=0.01, volume_limit=0.0, swap_long=-4.6, swap_short=3.7, margin_initial=0.0, margin_maintenance=0.0, session_volume=0.0, session_turnover=0.0, session_interest=0.0, session_buy_orders_volume=0.0, session_sell_orders_volume=0.0, session_open=0.0, session_close=0.0, session_aw=0.0, session_price_settlement=0.0, session_price_limit_min=0.0, session_price_limit_max=0.0, margin_hedged=0.0, price_change=0.0, price_volatility=0.0, price_theoretical=0.0, price_greeks_delta=0.0, price_greeks_theta=0.0, price_greeks_gamma=0.0, price_greeks_vega=0.0, price_greeks_rho=0.0, price_greeks_omega=0.0, price_sensitivity=0.0, basis='', category='', currency_base='USD', currency_profit='USD', currency_margin='USD', bank='', description='Silver Spot', exchange='', formula='', isin='', name='XAGUSD', page='', path='Commodities\\\\Metals\\\\XAGUSD'),\n",
       " SymbolInfo(custom=False, chart_mode=0, select=False, visible=False, session_deals=0, session_buy_orders=0, session_sell_orders=0, volume=0, volumehigh=0, volumelow=0, time=0, digits=3, spread=0, spread_float=True, ticks_bookdepth=32, trade_calc_mode=2, trade_mode=4, start_time=0, expiration_time=0, trade_stops_level=0, trade_freeze_level=0, trade_exemode=2, swap_mode=3, swap_rollover3days=3, margin_hedged_use_leg=False, expiration_mode=15, filling_mode=3, order_mode=127, order_gtc_mode=0, option_mode=0, option_right=0, bid=0.0, bidhigh=0.0, bidlow=0.0, ask=0.0, askhigh=0.0, asklow=0.0, last=0.0, lasthigh=0.0, lastlow=0.0, volume_real=0.0, volumehigh_real=0.0, volumelow_real=0.0, option_strike=0.0, point=0.001, trade_tick_value=9.509409560760373, trade_tick_value_profit=9.509409560760373, trade_tick_value_loss=9.509771290000476, trade_tick_size=0.001, trade_contract_size=10000.0, trade_accrued_interest=0.0, trade_face_value=0.0, trade_liquidity_rate=0.0, volume_min=0.1, volume_max=100.0, volume_step=0.1, volume_limit=0.0, swap_long=41.0, swap_short=-78.0, margin_initial=0.0, margin_maintenance=0.0, session_volume=0.0, session_turnover=0.0, session_interest=0.0, session_buy_orders_volume=0.0, session_sell_orders_volume=0.0, session_open=0.0, session_close=0.0, session_aw=0.0, session_price_settlement=0.0, session_price_limit_min=0.0, session_price_limit_max=0.0, margin_hedged=0.0, price_change=0.0, price_volatility=0.0, price_theoretical=0.0, price_greeks_delta=0.0, price_greeks_theta=0.0, price_greeks_gamma=0.0, price_greeks_vega=0.0, price_greeks_rho=0.0, price_greeks_omega=0.0, price_sensitivity=0.0, basis='', category='', currency_base='USD', currency_profit='USD', currency_margin='USD', bank='', description='Natural Gas Spot USD', exchange='', formula='', isin='', name='XNGUSD', page='', path='Commodities\\\\Energies\\\\XNGUSD'),\n",
       " SymbolInfo(custom=False, chart_mode=0, select=False, visible=False, session_deals=0, session_buy_orders=0, session_sell_orders=0, volume=0, volumehigh=0, volumelow=0, time=0, digits=2, spread=0, spread_float=True, ticks_bookdepth=32, trade_calc_mode=2, trade_mode=4, start_time=0, expiration_time=0, trade_stops_level=0, trade_freeze_level=0, trade_exemode=2, swap_mode=3, swap_rollover3days=3, margin_hedged_use_leg=False, expiration_mode=15, filling_mode=3, order_mode=127, order_gtc_mode=0, option_mode=0, option_right=0, bid=0.0, bidhigh=0.0, bidlow=0.0, ask=0.0, askhigh=0.0, asklow=0.0, last=0.0, lasthigh=0.0, lastlow=0.0, volume_real=0.0, volumehigh_real=0.0, volumelow_real=0.0, option_strike=0.0, point=0.01, trade_tick_value=9.509409560760371, trade_tick_value_profit=9.509409560760371, trade_tick_value_loss=9.509771290000478, trade_tick_size=0.01, trade_contract_size=1000.0, trade_accrued_interest=0.0, trade_face_value=0.0, trade_liquidity_rate=0.0, volume_min=0.01, volume_max=100.0, volume_step=0.01, volume_limit=0.0, swap_long=6.8, swap_short=-21.9, margin_initial=0.0, margin_maintenance=0.0, session_volume=0.0, session_turnover=0.0, session_interest=0.0, session_buy_orders_volume=0.0, session_sell_orders_volume=0.0, session_open=0.0, session_close=0.0, session_aw=0.0, session_price_settlement=0.0, session_price_limit_min=0.0, session_price_limit_max=0.0, margin_hedged=0.0, price_change=0.0, price_volatility=0.0, price_theoretical=0.0, price_greeks_delta=0.0, price_greeks_theta=0.0, price_greeks_gamma=0.0, price_greeks_vega=0.0, price_greeks_rho=0.0, price_greeks_omega=0.0, price_sensitivity=0.0, basis='', category='', currency_base='USD', currency_profit='USD', currency_margin='USD', bank='', description='US Crude (Spot) vs US Dollar', exchange='', formula='', isin='', name='XTIUSD', page='', path='Commodities\\\\Energies\\\\XTIUSD'))"
      ]
     },
     "execution_count": 57,
     "metadata": {},
     "output_type": "execute_result"
    }
   ],
   "source": [
    "# Filtramos los simbolos o uno en espesifico\n",
    "mt5.symbols_get('*USD*')"
   ]
  },
  {
   "cell_type": "code",
   "execution_count": null,
   "metadata": {},
   "outputs": [],
   "source": [
    "# Obtiene los simbolos que tengan la plabra USD\n",
    "symbols = mt5.symbols_get('*USD*')"
   ]
  },
  {
   "cell_type": "code",
   "execution_count": null,
   "metadata": {},
   "outputs": [
    {
     "name": "stdout",
     "output_type": "stream",
     "text": [
      "AUDUSD\n",
      "EURUSD\n",
      "GBPUSD\n",
      "NZDUSD\n",
      "USDCAD\n",
      "USDCHF\n",
      "USDJPY\n",
      "USDMXN\n",
      "USDNOK\n",
      "USDSEK\n",
      "USDSGD\n",
      "USDTRY\n",
      "XAUUSD\n",
      "XAGUSD\n",
      "XNGUSD\n",
      "XTIUSD\n"
     ]
    }
   ],
   "source": [
    "# Recorre los simbolos obtenidos\n",
    "for symbol in symbols:\n",
    "    print(symbol.name)"
   ]
  },
  {
   "cell_type": "code",
   "execution_count": null,
   "metadata": {},
   "outputs": [
    {
     "data": {
      "text/plain": [
       "5"
      ]
     },
     "execution_count": 70,
     "metadata": {},
     "output_type": "execute_result"
    }
   ],
   "source": [
    "# Obtener la información de un symbol\n",
    "eurusd = mt5.symbol_info(\"EURUSD\")._asdict()\n",
    "eurusd['digits']"
   ]
  },
  {
   "cell_type": "code",
   "execution_count": 71,
   "metadata": {},
   "outputs": [
    {
     "name": "stdout",
     "output_type": "stream",
     "text": [
      "Símbolo añadido correctamente\n"
     ]
    }
   ],
   "source": [
    "# Añadir symbols al MarketWatch\n",
    "if mt5.symbol_select('EURJPY', True):\n",
    "    print(\"Símbolo añadido correctamente\")\n",
    "else:\n",
    "    print(f\"Ha ocurrido un error añadiendo el símbolo: {mt5.last_error()}\")"
   ]
  },
  {
   "cell_type": "code",
   "execution_count": null,
   "metadata": {},
   "outputs": [
    {
     "data": {
      "text/plain": [
       "1.05071"
      ]
     },
     "execution_count": 129,
     "metadata": {},
     "output_type": "execute_result"
    }
   ],
   "source": [
    "# Último precio de un símbolo en concreto:\n",
    "tick = mt5.symbol_info_tick('EURUSD') # epoch / unix timestamp\n",
    "tick.ask"
   ]
  },
  {
   "cell_type": "markdown",
   "metadata": {},
   "source": [
    "# Adquisición de datos : OHLC (Open High low Close)"
   ]
  },
  {
   "cell_type": "code",
   "execution_count": 131,
   "metadata": {},
   "outputs": [],
   "source": [
    "from datetime import datetime\n",
    "import pytz"
   ]
  },
  {
   "cell_type": "code",
   "execution_count": 190,
   "metadata": {},
   "outputs": [
    {
     "data": {
      "text/plain": [
       "datetime.datetime(2024, 7, 17, 15, 0, tzinfo=<UTC>)"
      ]
     },
     "execution_count": 190,
     "metadata": {},
     "output_type": "execute_result"
    }
   ],
   "source": [
    "symbol = \"EURNOK\"\n",
    "timeframe = mt5.TIMEFRAME_H1\n",
    "\n",
    "# Recuperamos datos desde una fecha determinada\n",
    "date = datetime.strptime(\"2024-07-17 15:00:00\", \"%Y-%m-%d %H:%M:%S\")\n",
    "\n",
    "# La hora actual sin cambiarla hora en UTC\n",
    "date = date.replace(tzinfo=pytz.utc)\n",
    "date"
   ]
  },
  {
   "cell_type": "code",
   "execution_count": null,
   "metadata": {},
   "outputs": [
    {
     "data": {
      "text/plain": [
       "datetime.datetime(2023, 7, 17, 20, 0, tzinfo=<UTC>)"
      ]
     },
     "execution_count": 144,
     "metadata": {},
     "output_type": "execute_result"
    }
   ],
   "source": [
    "# CASO 1: Convertir mi zona horaria a UTC para que la relacion de mi hora actual se la hora en UTC correspondiente\n",
    "# date.astimezone(pytz.utc)"
   ]
  },
  {
   "cell_type": "code",
   "execution_count": null,
   "metadata": {},
   "outputs": [
    {
     "data": {
      "text/plain": [
       "datetime.datetime(2023, 7, 17, 15, 0, tzinfo=<UTC>)"
      ]
     },
     "execution_count": 145,
     "metadata": {},
     "output_type": "execute_result"
    }
   ],
   "source": [
    "# CASO 2: La hora actual sin cambiarla convertida en UTC\n",
    "# date.replace(tzinfo=pytz.utc)"
   ]
  },
  {
   "cell_type": "code",
   "execution_count": 193,
   "metadata": {},
   "outputs": [],
   "source": [
    "# Vamos a recuperar los datos OHLC\n",
    "raw_ohlc_data = mt5.copy_rates_from(symbol, timeframe, date, 10)\n",
    "df =  pd.DataFrame(raw_ohlc_data)\n",
    "# Editamos la columna time que esta en segundo par que quede en fecha, ya que esta en segundos epoch\n",
    "df['time'] =  pd.to_datetime(df['time'], unit='s')\n",
    "# df.set_index('time', inplace=True)"
   ]
  },
  {
   "cell_type": "code",
   "execution_count": 195,
   "metadata": {},
   "outputs": [
    {
     "data": {
      "text/html": [
       "<div>\n",
       "<style scoped>\n",
       "    .dataframe tbody tr th:only-of-type {\n",
       "        vertical-align: middle;\n",
       "    }\n",
       "\n",
       "    .dataframe tbody tr th {\n",
       "        vertical-align: top;\n",
       "    }\n",
       "\n",
       "    .dataframe thead th {\n",
       "        text-align: right;\n",
       "    }\n",
       "</style>\n",
       "<table border=\"1\" class=\"dataframe\">\n",
       "  <thead>\n",
       "    <tr style=\"text-align: right;\">\n",
       "      <th></th>\n",
       "      <th>time</th>\n",
       "      <th>open</th>\n",
       "      <th>high</th>\n",
       "      <th>low</th>\n",
       "      <th>close</th>\n",
       "      <th>tick_volume</th>\n",
       "      <th>spread</th>\n",
       "      <th>real_volume</th>\n",
       "    </tr>\n",
       "  </thead>\n",
       "  <tbody>\n",
       "    <tr>\n",
       "      <th>0</th>\n",
       "      <td>2024-07-17 06:00:00</td>\n",
       "      <td>11.74986</td>\n",
       "      <td>11.75222</td>\n",
       "      <td>11.74427</td>\n",
       "      <td>11.74720</td>\n",
       "      <td>379</td>\n",
       "      <td>41</td>\n",
       "      <td>0</td>\n",
       "    </tr>\n",
       "    <tr>\n",
       "      <th>1</th>\n",
       "      <td>2024-07-17 07:00:00</td>\n",
       "      <td>11.74693</td>\n",
       "      <td>11.74932</td>\n",
       "      <td>11.74503</td>\n",
       "      <td>11.74585</td>\n",
       "      <td>458</td>\n",
       "      <td>11</td>\n",
       "      <td>0</td>\n",
       "    </tr>\n",
       "    <tr>\n",
       "      <th>2</th>\n",
       "      <td>2024-07-17 08:00:00</td>\n",
       "      <td>11.74585</td>\n",
       "      <td>11.76472</td>\n",
       "      <td>11.74512</td>\n",
       "      <td>11.75272</td>\n",
       "      <td>1523</td>\n",
       "      <td>0</td>\n",
       "      <td>0</td>\n",
       "    </tr>\n",
       "    <tr>\n",
       "      <th>3</th>\n",
       "      <td>2024-07-17 09:00:00</td>\n",
       "      <td>11.75252</td>\n",
       "      <td>11.78462</td>\n",
       "      <td>11.75142</td>\n",
       "      <td>11.78172</td>\n",
       "      <td>4921</td>\n",
       "      <td>23</td>\n",
       "      <td>0</td>\n",
       "    </tr>\n",
       "    <tr>\n",
       "      <th>4</th>\n",
       "      <td>2024-07-17 10:00:00</td>\n",
       "      <td>11.78188</td>\n",
       "      <td>11.78312</td>\n",
       "      <td>11.75644</td>\n",
       "      <td>11.76688</td>\n",
       "      <td>4018</td>\n",
       "      <td>0</td>\n",
       "      <td>0</td>\n",
       "    </tr>\n",
       "    <tr>\n",
       "      <th>5</th>\n",
       "      <td>2024-07-17 11:00:00</td>\n",
       "      <td>11.76688</td>\n",
       "      <td>11.77045</td>\n",
       "      <td>11.74688</td>\n",
       "      <td>11.75082</td>\n",
       "      <td>4966</td>\n",
       "      <td>5</td>\n",
       "      <td>0</td>\n",
       "    </tr>\n",
       "    <tr>\n",
       "      <th>6</th>\n",
       "      <td>2024-07-17 12:00:00</td>\n",
       "      <td>11.75102</td>\n",
       "      <td>11.75172</td>\n",
       "      <td>11.73566</td>\n",
       "      <td>11.74000</td>\n",
       "      <td>3691</td>\n",
       "      <td>0</td>\n",
       "      <td>0</td>\n",
       "    </tr>\n",
       "    <tr>\n",
       "      <th>7</th>\n",
       "      <td>2024-07-17 13:00:00</td>\n",
       "      <td>11.74000</td>\n",
       "      <td>11.75079</td>\n",
       "      <td>11.73602</td>\n",
       "      <td>11.75078</td>\n",
       "      <td>2836</td>\n",
       "      <td>0</td>\n",
       "      <td>0</td>\n",
       "    </tr>\n",
       "    <tr>\n",
       "      <th>8</th>\n",
       "      <td>2024-07-17 14:00:00</td>\n",
       "      <td>11.75078</td>\n",
       "      <td>11.76455</td>\n",
       "      <td>11.74866</td>\n",
       "      <td>11.75052</td>\n",
       "      <td>2934</td>\n",
       "      <td>0</td>\n",
       "      <td>0</td>\n",
       "    </tr>\n",
       "    <tr>\n",
       "      <th>9</th>\n",
       "      <td>2024-07-17 15:00:00</td>\n",
       "      <td>11.75068</td>\n",
       "      <td>11.76801</td>\n",
       "      <td>11.74642</td>\n",
       "      <td>11.76376</td>\n",
       "      <td>3814</td>\n",
       "      <td>0</td>\n",
       "      <td>0</td>\n",
       "    </tr>\n",
       "  </tbody>\n",
       "</table>\n",
       "</div>"
      ],
      "text/plain": [
       "                 time      open      high       low     close  tick_volume  \\\n",
       "0 2024-07-17 06:00:00  11.74986  11.75222  11.74427  11.74720          379   \n",
       "1 2024-07-17 07:00:00  11.74693  11.74932  11.74503  11.74585          458   \n",
       "2 2024-07-17 08:00:00  11.74585  11.76472  11.74512  11.75272         1523   \n",
       "3 2024-07-17 09:00:00  11.75252  11.78462  11.75142  11.78172         4921   \n",
       "4 2024-07-17 10:00:00  11.78188  11.78312  11.75644  11.76688         4018   \n",
       "5 2024-07-17 11:00:00  11.76688  11.77045  11.74688  11.75082         4966   \n",
       "6 2024-07-17 12:00:00  11.75102  11.75172  11.73566  11.74000         3691   \n",
       "7 2024-07-17 13:00:00  11.74000  11.75079  11.73602  11.75078         2836   \n",
       "8 2024-07-17 14:00:00  11.75078  11.76455  11.74866  11.75052         2934   \n",
       "9 2024-07-17 15:00:00  11.75068  11.76801  11.74642  11.76376         3814   \n",
       "\n",
       "   spread  real_volume  \n",
       "0      41            0  \n",
       "1      11            0  \n",
       "2       0            0  \n",
       "3      23            0  \n",
       "4       0            0  \n",
       "5       5            0  \n",
       "6       0            0  \n",
       "7       0            0  \n",
       "8       0            0  \n",
       "9       0            0  "
      ]
     },
     "execution_count": 195,
     "metadata": {},
     "output_type": "execute_result"
    }
   ],
   "source": [
    "df"
   ]
  },
  {
   "cell_type": "code",
   "execution_count": 164,
   "metadata": {},
   "outputs": [
    {
     "data": {
      "text/html": [
       "<div>\n",
       "<style scoped>\n",
       "    .dataframe tbody tr th:only-of-type {\n",
       "        vertical-align: middle;\n",
       "    }\n",
       "\n",
       "    .dataframe tbody tr th {\n",
       "        vertical-align: top;\n",
       "    }\n",
       "\n",
       "    .dataframe thead th {\n",
       "        text-align: right;\n",
       "    }\n",
       "</style>\n",
       "<table border=\"1\" class=\"dataframe\">\n",
       "  <thead>\n",
       "    <tr style=\"text-align: right;\">\n",
       "      <th></th>\n",
       "      <th>open</th>\n",
       "      <th>high</th>\n",
       "      <th>low</th>\n",
       "      <th>close</th>\n",
       "      <th>tick_volume</th>\n",
       "      <th>spread</th>\n",
       "      <th>real_volume</th>\n",
       "    </tr>\n",
       "    <tr>\n",
       "      <th>time</th>\n",
       "      <th></th>\n",
       "      <th></th>\n",
       "      <th></th>\n",
       "      <th></th>\n",
       "      <th></th>\n",
       "      <th></th>\n",
       "      <th></th>\n",
       "    </tr>\n",
       "  </thead>\n",
       "  <tbody>\n",
       "    <tr>\n",
       "      <th>2024-12-03 23:17:00</th>\n",
       "      <td>11.62935</td>\n",
       "      <td>11.62950</td>\n",
       "      <td>11.62827</td>\n",
       "      <td>11.62937</td>\n",
       "      <td>24</td>\n",
       "      <td>315</td>\n",
       "      <td>0</td>\n",
       "    </tr>\n",
       "    <tr>\n",
       "      <th>2024-12-03 23:18:00</th>\n",
       "      <td>11.62950</td>\n",
       "      <td>11.63076</td>\n",
       "      <td>11.62913</td>\n",
       "      <td>11.63070</td>\n",
       "      <td>51</td>\n",
       "      <td>282</td>\n",
       "      <td>0</td>\n",
       "    </tr>\n",
       "    <tr>\n",
       "      <th>2024-12-03 23:19:00</th>\n",
       "      <td>11.63018</td>\n",
       "      <td>11.63072</td>\n",
       "      <td>11.62971</td>\n",
       "      <td>11.63066</td>\n",
       "      <td>26</td>\n",
       "      <td>279</td>\n",
       "      <td>0</td>\n",
       "    </tr>\n",
       "    <tr>\n",
       "      <th>2024-12-03 23:20:00</th>\n",
       "      <td>11.63066</td>\n",
       "      <td>11.63067</td>\n",
       "      <td>11.63066</td>\n",
       "      <td>11.63067</td>\n",
       "      <td>2</td>\n",
       "      <td>348</td>\n",
       "      <td>0</td>\n",
       "    </tr>\n",
       "    <tr>\n",
       "      <th>2024-12-03 23:21:00</th>\n",
       "      <td>11.63066</td>\n",
       "      <td>11.63066</td>\n",
       "      <td>11.62925</td>\n",
       "      <td>11.63002</td>\n",
       "      <td>17</td>\n",
       "      <td>272</td>\n",
       "      <td>0</td>\n",
       "    </tr>\n",
       "    <tr>\n",
       "      <th>2024-12-03 23:22:00</th>\n",
       "      <td>11.63002</td>\n",
       "      <td>11.63002</td>\n",
       "      <td>11.62984</td>\n",
       "      <td>11.62984</td>\n",
       "      <td>10</td>\n",
       "      <td>365</td>\n",
       "      <td>0</td>\n",
       "    </tr>\n",
       "    <tr>\n",
       "      <th>2024-12-03 23:23:00</th>\n",
       "      <td>11.62992</td>\n",
       "      <td>11.63002</td>\n",
       "      <td>11.62992</td>\n",
       "      <td>11.63002</td>\n",
       "      <td>2</td>\n",
       "      <td>363</td>\n",
       "      <td>0</td>\n",
       "    </tr>\n",
       "    <tr>\n",
       "      <th>2024-12-03 23:24:00</th>\n",
       "      <td>11.63002</td>\n",
       "      <td>11.63002</td>\n",
       "      <td>11.62855</td>\n",
       "      <td>11.62982</td>\n",
       "      <td>40</td>\n",
       "      <td>324</td>\n",
       "      <td>0</td>\n",
       "    </tr>\n",
       "    <tr>\n",
       "      <th>2024-12-03 23:25:00</th>\n",
       "      <td>11.62982</td>\n",
       "      <td>11.63012</td>\n",
       "      <td>11.62982</td>\n",
       "      <td>11.63012</td>\n",
       "      <td>7</td>\n",
       "      <td>364</td>\n",
       "      <td>0</td>\n",
       "    </tr>\n",
       "    <tr>\n",
       "      <th>2024-12-03 23:26:00</th>\n",
       "      <td>11.63002</td>\n",
       "      <td>11.63032</td>\n",
       "      <td>11.62898</td>\n",
       "      <td>11.63002</td>\n",
       "      <td>47</td>\n",
       "      <td>307</td>\n",
       "      <td>0</td>\n",
       "    </tr>\n",
       "  </tbody>\n",
       "</table>\n",
       "</div>"
      ],
      "text/plain": [
       "                         open      high       low     close  tick_volume  \\\n",
       "time                                                                       \n",
       "2024-12-03 23:17:00  11.62935  11.62950  11.62827  11.62937           24   \n",
       "2024-12-03 23:18:00  11.62950  11.63076  11.62913  11.63070           51   \n",
       "2024-12-03 23:19:00  11.63018  11.63072  11.62971  11.63066           26   \n",
       "2024-12-03 23:20:00  11.63066  11.63067  11.63066  11.63067            2   \n",
       "2024-12-03 23:21:00  11.63066  11.63066  11.62925  11.63002           17   \n",
       "2024-12-03 23:22:00  11.63002  11.63002  11.62984  11.62984           10   \n",
       "2024-12-03 23:23:00  11.62992  11.63002  11.62992  11.63002            2   \n",
       "2024-12-03 23:24:00  11.63002  11.63002  11.62855  11.62982           40   \n",
       "2024-12-03 23:25:00  11.62982  11.63012  11.62982  11.63012            7   \n",
       "2024-12-03 23:26:00  11.63002  11.63032  11.62898  11.63002           47   \n",
       "\n",
       "                     spread  real_volume  \n",
       "time                                      \n",
       "2024-12-03 23:17:00     315            0  \n",
       "2024-12-03 23:18:00     282            0  \n",
       "2024-12-03 23:19:00     279            0  \n",
       "2024-12-03 23:20:00     348            0  \n",
       "2024-12-03 23:21:00     272            0  \n",
       "2024-12-03 23:22:00     365            0  \n",
       "2024-12-03 23:23:00     363            0  \n",
       "2024-12-03 23:24:00     324            0  \n",
       "2024-12-03 23:25:00     364            0  \n",
       "2024-12-03 23:26:00     307            0  "
      ]
     },
     "execution_count": 164,
     "metadata": {},
     "output_type": "execute_result"
    }
   ],
   "source": [
    "# Recueperar los datos dado un indice y un numero de velas, siempre es recomendable usar la ultim vela cerrada (1), (0) es la vela actual\n",
    "raw_ohlc_data = mt5.copy_rates_from_pos(symbol, timeframe, 1, 10)\n",
    "df =  pd.DataFrame(raw_ohlc_data)\n",
    "# Editamos la columna time que esta en segundo par que quede en fecha, ya que esta en segundos epoch\n",
    "df['time'] =  pd.to_datetime(df['time'], unit='s')\n",
    "df.set_index('time', inplace=True)\n",
    "df # Los datos van a estar en la TZ=Asia/Nicosia y en DST US"
   ]
  },
  {
   "cell_type": "code",
   "execution_count": 157,
   "metadata": {},
   "outputs": [
    {
     "data": {
      "text/html": [
       "<div>\n",
       "<style scoped>\n",
       "    .dataframe tbody tr th:only-of-type {\n",
       "        vertical-align: middle;\n",
       "    }\n",
       "\n",
       "    .dataframe tbody tr th {\n",
       "        vertical-align: top;\n",
       "    }\n",
       "\n",
       "    .dataframe thead th {\n",
       "        text-align: right;\n",
       "    }\n",
       "</style>\n",
       "<table border=\"1\" class=\"dataframe\">\n",
       "  <thead>\n",
       "    <tr style=\"text-align: right;\">\n",
       "      <th></th>\n",
       "      <th>open</th>\n",
       "      <th>high</th>\n",
       "      <th>low</th>\n",
       "      <th>close</th>\n",
       "      <th>tick_volume</th>\n",
       "      <th>spread</th>\n",
       "      <th>real_volume</th>\n",
       "    </tr>\n",
       "    <tr>\n",
       "      <th>time</th>\n",
       "      <th></th>\n",
       "      <th></th>\n",
       "      <th></th>\n",
       "      <th></th>\n",
       "      <th></th>\n",
       "      <th></th>\n",
       "      <th></th>\n",
       "    </tr>\n",
       "  </thead>\n",
       "  <tbody>\n",
       "    <tr>\n",
       "      <th>2023-07-17 11:00:00</th>\n",
       "      <td>11.24711</td>\n",
       "      <td>11.29291</td>\n",
       "      <td>11.24650</td>\n",
       "      <td>11.29137</td>\n",
       "      <td>3606</td>\n",
       "      <td>56</td>\n",
       "      <td>0</td>\n",
       "    </tr>\n",
       "    <tr>\n",
       "      <th>2023-07-17 12:00:00</th>\n",
       "      <td>11.29137</td>\n",
       "      <td>11.31540</td>\n",
       "      <td>11.25260</td>\n",
       "      <td>11.29015</td>\n",
       "      <td>5937</td>\n",
       "      <td>40</td>\n",
       "      <td>0</td>\n",
       "    </tr>\n",
       "    <tr>\n",
       "      <th>2023-07-17 13:00:00</th>\n",
       "      <td>11.29019</td>\n",
       "      <td>11.29583</td>\n",
       "      <td>11.26602</td>\n",
       "      <td>11.27298</td>\n",
       "      <td>3762</td>\n",
       "      <td>28</td>\n",
       "      <td>0</td>\n",
       "    </tr>\n",
       "    <tr>\n",
       "      <th>2023-07-17 14:00:00</th>\n",
       "      <td>11.27298</td>\n",
       "      <td>11.27401</td>\n",
       "      <td>11.24205</td>\n",
       "      <td>11.24272</td>\n",
       "      <td>2722</td>\n",
       "      <td>0</td>\n",
       "      <td>0</td>\n",
       "    </tr>\n",
       "    <tr>\n",
       "      <th>2023-07-17 15:00:00</th>\n",
       "      <td>11.24320</td>\n",
       "      <td>11.26693</td>\n",
       "      <td>11.23403</td>\n",
       "      <td>11.26691</td>\n",
       "      <td>5149</td>\n",
       "      <td>43</td>\n",
       "      <td>0</td>\n",
       "    </tr>\n",
       "  </tbody>\n",
       "</table>\n",
       "</div>"
      ],
      "text/plain": [
       "                         open      high       low     close  tick_volume  \\\n",
       "time                                                                       \n",
       "2023-07-17 11:00:00  11.24711  11.29291  11.24650  11.29137         3606   \n",
       "2023-07-17 12:00:00  11.29137  11.31540  11.25260  11.29015         5937   \n",
       "2023-07-17 13:00:00  11.29019  11.29583  11.26602  11.27298         3762   \n",
       "2023-07-17 14:00:00  11.27298  11.27401  11.24205  11.24272         2722   \n",
       "2023-07-17 15:00:00  11.24320  11.26693  11.23403  11.26691         5149   \n",
       "\n",
       "                     spread  real_volume  \n",
       "time                                      \n",
       "2023-07-17 11:00:00      56            0  \n",
       "2023-07-17 12:00:00      40            0  \n",
       "2023-07-17 13:00:00      28            0  \n",
       "2023-07-17 14:00:00       0            0  \n",
       "2023-07-17 15:00:00      43            0  "
      ]
     },
     "execution_count": 157,
     "metadata": {},
     "output_type": "execute_result"
    }
   ],
   "source": [
    "# Recuperar los datos entre dos fechas\n",
    "date_init = datetime.strptime(\"2023-07-13 15:00:00\", \"%Y-%m-%d %H:%M:%S\").replace(tzinfo=pytz.utc)\n",
    "date_end = datetime.strptime(\"2023-07-17 15:00:00\", \"%Y-%m-%d %H:%M:%S\").replace(tzinfo=pytz.utc)\n",
    "raw_ohlc_data = mt5.copy_rates_range(symbol, timeframe, date_init, date_end)\n",
    "df =  pd.DataFrame(raw_ohlc_data)\n",
    "# Editamos la columna time que esta en segundo par que quede en fecha, ya que esta en segundos epoch\n",
    "df['time'] =  pd.to_datetime(df['time'], unit='s')\n",
    "df.set_index('time', inplace=True)\n",
    "\n",
    "df.tail()"
   ]
  },
  {
   "cell_type": "code",
   "execution_count": 209,
   "metadata": {},
   "outputs": [
    {
     "data": {
      "text/html": [
       "<div>\n",
       "<style scoped>\n",
       "    .dataframe tbody tr th:only-of-type {\n",
       "        vertical-align: middle;\n",
       "    }\n",
       "\n",
       "    .dataframe tbody tr th {\n",
       "        vertical-align: top;\n",
       "    }\n",
       "\n",
       "    .dataframe thead th {\n",
       "        text-align: right;\n",
       "    }\n",
       "</style>\n",
       "<table border=\"1\" class=\"dataframe\">\n",
       "  <thead>\n",
       "    <tr style=\"text-align: right;\">\n",
       "      <th></th>\n",
       "      <th>time</th>\n",
       "      <th>open</th>\n",
       "      <th>high</th>\n",
       "      <th>low</th>\n",
       "      <th>close</th>\n",
       "      <th>tick_volume</th>\n",
       "      <th>spread</th>\n",
       "      <th>real_volume</th>\n",
       "    </tr>\n",
       "  </thead>\n",
       "  <tbody>\n",
       "    <tr>\n",
       "      <th>0</th>\n",
       "      <td>2024-11-22 18:36:00</td>\n",
       "      <td>11.55292</td>\n",
       "      <td>11.55362</td>\n",
       "      <td>11.55212</td>\n",
       "      <td>11.55292</td>\n",
       "      <td>264</td>\n",
       "      <td>308</td>\n",
       "      <td>0</td>\n",
       "    </tr>\n",
       "    <tr>\n",
       "      <th>1</th>\n",
       "      <td>2024-11-22 18:37:00</td>\n",
       "      <td>11.55292</td>\n",
       "      <td>11.55542</td>\n",
       "      <td>11.55232</td>\n",
       "      <td>11.55502</td>\n",
       "      <td>397</td>\n",
       "      <td>313</td>\n",
       "      <td>0</td>\n",
       "    </tr>\n",
       "    <tr>\n",
       "      <th>2</th>\n",
       "      <td>2024-11-22 18:38:00</td>\n",
       "      <td>11.55492</td>\n",
       "      <td>11.55522</td>\n",
       "      <td>11.55189</td>\n",
       "      <td>11.55242</td>\n",
       "      <td>413</td>\n",
       "      <td>270</td>\n",
       "      <td>0</td>\n",
       "    </tr>\n",
       "    <tr>\n",
       "      <th>3</th>\n",
       "      <td>2024-11-22 18:39:00</td>\n",
       "      <td>11.55232</td>\n",
       "      <td>11.55264</td>\n",
       "      <td>11.55126</td>\n",
       "      <td>11.55172</td>\n",
       "      <td>272</td>\n",
       "      <td>262</td>\n",
       "      <td>0</td>\n",
       "    </tr>\n",
       "    <tr>\n",
       "      <th>4</th>\n",
       "      <td>2024-11-22 18:40:00</td>\n",
       "      <td>11.55156</td>\n",
       "      <td>11.55382</td>\n",
       "      <td>11.55156</td>\n",
       "      <td>11.55362</td>\n",
       "      <td>518</td>\n",
       "      <td>296</td>\n",
       "      <td>0</td>\n",
       "    </tr>\n",
       "  </tbody>\n",
       "</table>\n",
       "</div>"
      ],
      "text/plain": [
       "                 time      open      high       low     close  tick_volume  \\\n",
       "0 2024-11-22 18:36:00  11.55292  11.55362  11.55212  11.55292          264   \n",
       "1 2024-11-22 18:37:00  11.55292  11.55542  11.55232  11.55502          397   \n",
       "2 2024-11-22 18:38:00  11.55492  11.55522  11.55189  11.55242          413   \n",
       "3 2024-11-22 18:39:00  11.55232  11.55264  11.55126  11.55172          272   \n",
       "4 2024-11-22 18:40:00  11.55156  11.55382  11.55156  11.55362          518   \n",
       "\n",
       "   spread  real_volume  \n",
       "0     308            0  \n",
       "1     313            0  \n",
       "2     270            0  \n",
       "3     262            0  \n",
       "4     296            0  "
      ]
     },
     "execution_count": 209,
     "metadata": {},
     "output_type": "execute_result"
    }
   ],
   "source": [
    "# Definir el símbolo y el timeframe (1 minuto)\n",
    "symbol = \"EURNOK\"\n",
    "timeframe = mt5.TIMEFRAME_M1\n",
    "\n",
    "# Definir la fecha y hora de inicio (convertirla a UTC)\n",
    "date_str = \"2024-12-17 15:00:00\"\n",
    "date = datetime.strptime(date_str, \"%Y-%m-%d %H:%M:%S\")\n",
    "date = pytz.utc.localize(date)  # Localizamos la fecha a UTC\n",
    "\n",
    "# Recuperamos los datos OHLC (10 barras de 1 minuto)\n",
    "raw_ohlc_data = mt5.copy_rates_from(symbol, timeframe, date, 10000)\n",
    "\n",
    "if raw_ohlc_data is None or len(raw_ohlc_data) == 0:\n",
    "    print(f\"No se pudieron recuperar datos para {symbol} desde {date_str}\")\n",
    "else:\n",
    "    # Convertir los datos a un DataFrame de pandas\n",
    "    df = pd.DataFrame(raw_ohlc_data)\n",
    "\n",
    "    # Convertimos la columna 'time' de epoch a fecha\n",
    "    df['time'] = pd.to_datetime(df['time'], unit='s')\n",
    "\n",
    "    # Mostrar el DataFrame resultante\n",
    "df.head()"
   ]
  }
 ],
 "metadata": {
  "kernelspec": {
   "display_name": "mt5API",
   "language": "python",
   "name": "python3"
  },
  "language_info": {
   "codemirror_mode": {
    "name": "ipython",
    "version": 3
   },
   "file_extension": ".py",
   "mimetype": "text/x-python",
   "name": "python",
   "nbconvert_exporter": "python",
   "pygments_lexer": "ipython3",
   "version": "3.11.10"
  }
 },
 "nbformat": 4,
 "nbformat_minor": 2
}
